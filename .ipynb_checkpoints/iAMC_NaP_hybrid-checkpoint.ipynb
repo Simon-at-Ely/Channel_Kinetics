{
 "cells": [
  {
   "cell_type": "markdown",
   "metadata": {},
   "source": [
    "# iAMC Persistent Sodium\n",
    "We don't currently have data to fully define the iAMC_NaP channel so I will modify equations from other sources as a first guess on what the channel kinetics should look like. The Notebook labelled iAMC_NaP_Steady_State_Activation represents the actual data we have."
   ]
  },
  {
   "cell_type": "code",
   "execution_count": 32,
   "metadata": {
    "collapsed": false
   },
   "outputs": [
    {
     "name": "stdout",
     "output_type": "stream",
     "text": [
      "Populating the interactive namespace from numpy and matplotlib\n"
     ]
    },
    {
     "data": {
      "text/plain": [
       "array([[ 0.,  0.,  0., ...,  0.,  0.,  0.]])"
      ]
     },
     "execution_count": 32,
     "metadata": {},
     "output_type": "execute_result"
    }
   ],
   "source": [
    "#load python packages\n",
    "%pylab inline\n",
    "\n",
    "#set parameters\n",
    "m_vhalf = -60.563\n",
    "h_vhalf = -60.563 #start by setting vhalf to same value as m\n",
    "m_scale = 5.2909\n",
    "h_scale = -5.2909 \n",
    "base = 0.41431\n",
    "vmax = 108.69\n",
    "vm = np.linspace(-90, 40, num=2000)\n",
    "ENa = 67\n",
    "\n",
    "#calculate hinf curve\n",
    "Gmax = 109/(-40-ENa)\n",
    "G_h = (base + (vmax/(1+exp((h_vhalf-vm)/h_scale))))/(vm-ENa)\n",
    "hinf = G_h/Gmax\n",
    "\n",
    "#calculate minf curve\n",
    "v_a = np.zeros((1, 1500))\n",
    "minf_a = np.zeros((1, 1500))\n",
    "v = -90\n",
    "i = 0\n",
    "j = 0\n",
    "while (v <= -40):\n",
    "    G_m = (base + (vmax/(1+exp((m_vhalf-v)/m_scale))))/(v-ENa)\n",
    "    minf = G_m/Gmax\n",
    "    np.insert(v_a, i, v, axis=1)\n",
    "    np.insert(minf_a, i, minf, axis=1)\n",
    "    v = v + 0.1\n",
    "    i = i + 1\n",
    "\n",
    "while (v <= 40):\n",
    "        minf = 0.499622025796\n",
    "        np.insert(v_a, i, v, axis=1)\n",
    "        np.insert(minf_a, i, minf, axis=1)\n",
    "        v = v + 0.1\n",
    "        i = i + 1\n",
    "\n",
    "minf_a\n",
    "\n",
    "#plot Steady State curve\n",
    "#plt.plot(v_a, minf_a, vm, hinf)\n",
    "#plt.title('iAMC_NaP Steady State')\n",
    "#plt.xlabel('Vmemb (mV)')\n",
    "#plt.ylabel('minf(dimensionless)')\n",
    "#plt.legend(['NaP activation', 'NaP inactivation'], loc='lower right')"
   ]
  },
  {
   "cell_type": "markdown",
   "metadata": {},
   "source": [
    "The NaP channel saturates at Vm above -40 mV so minf can be set at a constant value that is equal to minf at -40. I therefore calculate here the value for minf at -40 to insert in the script above. "
   ]
  },
  {
   "cell_type": "code",
   "execution_count": 33,
   "metadata": {
    "collapsed": false
   },
   "outputs": [
    {
     "name": "stdout",
     "output_type": "stream",
     "text": [
      "Populating the interactive namespace from numpy and matplotlib\n",
      "0.499622025796 minf (dimensionless)\n"
     ]
    }
   ],
   "source": [
    "#load python packages\n",
    "%pylab inline\n",
    "\n",
    "#set parameters\n",
    "m_vhalf = -60.563\n",
    "m_scale = 5.2909\n",
    "base = 0.41431\n",
    "vmax = 108.69\n",
    "v = -40 # mV\n",
    "ENa = 67 # mV\n",
    "\n",
    "#set equations\n",
    "Gmax = 109/(-40-ENa)\n",
    "G_m = (base + (vmax/(1+exp((m_vhalf-v)/m_scale))))/(v-ENa)\n",
    "minf = G_m/Gmax\n",
    "\n",
    "#print value for minf\n",
    "print minf, \"minf (dimensionless)\""
   ]
  },
  {
   "cell_type": "code",
   "execution_count": 3,
   "metadata": {
    "collapsed": false
   },
   "outputs": [
    {
     "name": "stdout",
     "output_type": "stream",
     "text": [
      "Populating the interactive namespace from numpy and matplotlib\n"
     ]
    },
    {
     "ename": "ValueError",
     "evalue": "The truth value of an array with more than one element is ambiguous. Use a.any() or a.all()",
     "output_type": "error",
     "traceback": [
      "\u001b[1;31m---------------------------------------------------------------------------\u001b[0m",
      "\u001b[1;31mValueError\u001b[0m                                Traceback (most recent call last)",
      "\u001b[1;32m<ipython-input-3-0ad825cfca4c>\u001b[0m in \u001b[0;36m<module>\u001b[1;34m()\u001b[0m\n\u001b[0;32m     18\u001b[0m \u001b[1;33m\u001b[0m\u001b[0m\n\u001b[0;32m     19\u001b[0m \u001b[1;31m#calculate minf curve\u001b[0m\u001b[1;33m\u001b[0m\u001b[1;33m\u001b[0m\u001b[0m\n\u001b[1;32m---> 20\u001b[1;33m \u001b[1;32mif\u001b[0m \u001b[1;33m(\u001b[0m\u001b[0mbase\u001b[0m \u001b[1;33m+\u001b[0m \u001b[1;33m(\u001b[0m\u001b[0mvmax\u001b[0m\u001b[1;33m/\u001b[0m\u001b[1;33m(\u001b[0m\u001b[1;36m1\u001b[0m\u001b[1;33m+\u001b[0m\u001b[0mexp\u001b[0m\u001b[1;33m(\u001b[0m\u001b[1;33m(\u001b[0m\u001b[0mm_vhalf\u001b[0m\u001b[1;33m-\u001b[0m\u001b[0mv\u001b[0m\u001b[1;33m)\u001b[0m\u001b[1;33m/\u001b[0m\u001b[0mm_scale\u001b[0m\u001b[1;33m)\u001b[0m\u001b[1;33m)\u001b[0m\u001b[1;33m)\u001b[0m\u001b[1;33m)\u001b[0m\u001b[1;33m/\u001b[0m\u001b[1;33m(\u001b[0m\u001b[0mv\u001b[0m\u001b[1;33m-\u001b[0m\u001b[0mENa\u001b[0m\u001b[1;33m)\u001b[0m\u001b[1;33m/\u001b[0m\u001b[0mGmax\u001b[0m \u001b[1;33m>\u001b[0m \u001b[1;36m0.499622025796\u001b[0m\u001b[1;33m:\u001b[0m\u001b[1;33m\u001b[0m\u001b[0m\n\u001b[0m\u001b[0;32m     21\u001b[0m     \u001b[0mminf\u001b[0m \u001b[1;33m=\u001b[0m \u001b[1;36m0.499622025796\u001b[0m\u001b[1;33m\u001b[0m\u001b[0m\n\u001b[0;32m     22\u001b[0m \u001b[1;32melse\u001b[0m\u001b[1;33m:\u001b[0m\u001b[1;33m\u001b[0m\u001b[0m\n",
      "\u001b[1;31mValueError\u001b[0m: The truth value of an array with more than one element is ambiguous. Use a.any() or a.all()"
     ]
    }
   ],
   "source": [
    "#load python packages\n",
    "%pylab inline\n",
    "\n",
    "#set parameters\n",
    "m_vhalf = -60.563\n",
    "h_vhalf = -60.563 #start by setting vhalf to same value as m\n",
    "m_scale = 5.2909\n",
    "h_scale = -5.2909 \n",
    "base = 0.41431\n",
    "vmax = 108.69\n",
    "v = np.linspace(-90, 40, num=2000)\n",
    "ENa = 67\n",
    "\n",
    "#calculate hinf curve\n",
    "Gmax = 109/(-40-ENa)\n",
    "G_h = (base + (vmax/(1+exp((h_vhalf-v)/h_scale))))/(v-ENa)\n",
    "hinf = G_h/Gmax\n",
    "\n",
    "#calculate minf curve\n",
    "if (base + (vmax/(1+exp((m_vhalf-v)/m_scale))))/(v-ENa)/Gmax > 0.499622025796:\n",
    "    minf = 0.499622025796\n",
    "else:\n",
    "    G_m = (base + (vmax/(1+exp((m_vhalf-v)/m_scale))))/(v-ENa)\n",
    "    minf = G_m/Gmax\n",
    "\n",
    "#plot Steady State curve\n",
    "plt.plot(v, minf, v, hinf)\n",
    "plt.title('iAMC_NaP Steady State')\n",
    "plt.xlabel('Vmemb (mV)')\n",
    "plt.ylabel('Steady State(dimensionless)')\n",
    "plt.legend(['NaP activation', 'NaP inactivation'], loc='lower right')"
   ]
  },
  {
   "cell_type": "code",
   "execution_count": null,
   "metadata": {
    "collapsed": true
   },
   "outputs": [],
   "source": []
  }
 ],
 "metadata": {
  "kernelspec": {
   "display_name": "Python 2",
   "language": "python",
   "name": "python2"
  },
  "language_info": {
   "codemirror_mode": {
    "name": "ipython",
    "version": 2
   },
   "file_extension": ".py",
   "mimetype": "text/x-python",
   "name": "python",
   "nbconvert_exporter": "python",
   "pygments_lexer": "ipython2",
   "version": "2.7.10"
  }
 },
 "nbformat": 4,
 "nbformat_minor": 0
}
