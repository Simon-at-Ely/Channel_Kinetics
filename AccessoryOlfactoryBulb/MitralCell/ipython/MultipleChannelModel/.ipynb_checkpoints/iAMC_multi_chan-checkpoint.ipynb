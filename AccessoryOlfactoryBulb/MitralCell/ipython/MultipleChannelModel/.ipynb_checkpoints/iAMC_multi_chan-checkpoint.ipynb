{
 "cells": [
  {
   "cell_type": "markdown",
   "metadata": {},
   "source": [
    "#iAMC Multiple Channel Model\n",
    "**All development work up until now on this model has been described in notebooks for the individual channels that an be found here:**\n",
    "https://github.com/Simon-at-Ely/Channel_Kinetics/blob/master/AccessoryOlfactoryBulb/MitralCell/ipython/DelayedRectifierPotassium/iAMC_Kdr.ipynb\n",
    "https://github.com/Simon-at-Ely/Channel_Kinetics/blob/master/AccessoryOlfactoryBulb/MitralCell/ipython/PersistentSodium/iAMC_NaP_hybrid.ipynb\n",
    "https://github.com/Simon-at-Ely/Channel_Kinetics/blob/master/AccessoryOlfactoryBulb/MitralCell/ipython/A_typePotassium/iAMC_KA.ipynb\n",
    "https://github.com/Simon-at-Ely/Channel_Kinetics/blob/master/AccessoryOlfactoryBulb/MitralCell/ipython/R_TypeCalcium/iAMC_CaR.ipynb\n",
    "https://github.com/Simon-at-Ely/Channel_Kinetics/blob/master/AccessoryOlfactoryBulb/MitralCell/ipython/TransientSodium/iAMC_NaT.ipynb\n",
    "https://github.com/Simon-at-Ely/Channel_Kinetics/blob/master/AccessoryOlfactoryBulb/MitralCell/ipython/BtypePotassium/BK_iAMT.ipynb"
   ]
  },
  {
   "cell_type": "markdown",
   "metadata": {},
   "source": [
    "#Simulation 79\n",
    "**Following on from Simulation 78 where I set NaP deactivation $\\tau$ to 1 ms at all Vm (see link above for details) and Simulation 73 where I set Kdr deactivation $\\tau$ to 4 ms and $\\infty$ to 0 upto Vm = 0, I included these parameters in Simulation 79. Because of the reduction in the spike of NaP, I needed to increase Nax Gmax from 5E-06 $mS{\\mu}m^{-2}$ to give a consistent action potential.**\n",
    "\n",
    "![alt text](Sim_79_Vm.png)\n",
    "\n",
    "**Simulation 79 Vm (mV) Time (ms)**\n",
    "\n",
    "![alt text](Sim_79_gNax.png)\n",
    "\n",
    "**Simulation 79 Nax Conductance ($S/cm^2$) Time (ms)**\n",
    "\n",
    "![alt text](Sim_79_gNaP.png)\n",
    "\n",
    "**Simulation 79 NaP Conductance ($S/cm^2$) Time (ms)**\n",
    "\n",
    "![alt text](Sim_79_gKdr_gKA.png)\n",
    "\n",
    "**Simulation 79 Kdr and KA Conductance ($S/cm^2$) Time (ms)**\n",
    "\n",
    "![alt text](Sim_79_gBK_gCaR.png)\n",
    "\n",
    "**Simulation 79 BK and CaR Conductance ($S/cm^2$) Time (ms)**\n",
    "\n",
    "![alt text](Sim_79_Ca_conc.png)\n",
    "\n",
    "**Simulation 79 Ca pool Concentration (mM) Time (ms)**"
   ]
  },
  {
   "cell_type": "code",
   "execution_count": null,
   "metadata": {
    "collapsed": true
   },
   "outputs": [],
   "source": []
  }
 ],
 "metadata": {
  "kernelspec": {
   "display_name": "Python 2",
   "language": "python",
   "name": "python2"
  },
  "language_info": {
   "codemirror_mode": {
    "name": "ipython",
    "version": 2
   },
   "file_extension": ".py",
   "mimetype": "text/x-python",
   "name": "python",
   "nbconvert_exporter": "python",
   "pygments_lexer": "ipython2",
   "version": "2.7.10"
  }
 },
 "nbformat": 4,
 "nbformat_minor": 0
}
