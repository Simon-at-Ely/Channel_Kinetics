{
 "cells": [
  {
   "cell_type": "markdown",
   "metadata": {},
   "source": [
    "#Correcting NaP steady state curve fit#\n",
    "The caclulation of Gmax by python had given an incorrect answer because all the compents of the division had been integers. In python this automatically treated as an integer division so the answer is given as an integer rather than a float. Here we refit the steady state activation to correct the mistake:\n",
    "\n",
    "![Figure 1](figure_2.jpeg \"Figure 1\")<h3 style=\"text-align: center;\" markdown=\"1\">Figure 1</h3>"
   ]
  },
  {
   "cell_type": "code",
   "execution_count": 1,
   "metadata": {
    "collapsed": true
   },
   "outputs": [],
   "source": [
    "#Least Squares fit for iAMC_NaP channel Inf activation\n",
    "#load python packages\n",
    "import numpy as np\n",
    "import matplotlib.pyplot as plt\n",
    "%matplotlib qt4\n",
    "from scipy.optimize import leastsq\n",
    "\n",
    "# set parameters for curve-fit\n",
    "v = np.array([-70, -65, -60,-55])\n",
    "ENa = 67\n",
    "Gmax = 109.0/(-40-ENa)\n",
    "i = np.array([14.03, 33.44, 58.98, 79.38])\n",
    "df = v-ENa\n",
    "G = i/df\n",
    "y = G/Gmax\n",
    "\n",
    "def func(v, A, B):\n",
    "    \"\"\"Exponential equation.\"\"\"\n",
    "    return 1/(1+(np.exp((v-A)/B)))\n",
    "\n",
    "def residuals(p, y, v):\n",
    "    \"\"\"Deviations of data from fitted DE curve\"\"\"\n",
    "    A,B = p\n",
    "    err = y-func(v, A, B)\n",
    "    return err\n",
    "\n",
    "def peval(v, p):\n",
    "    \"\"\"Evaluated value at v with current parameters.\"\"\"\n",
    "    A,B = p\n",
    "    return func(v, A, B)\n",
    "\n",
    "# Initial guess for parameters\n",
    "# p0 = [60, 5, 8]\n",
    "p0 = [-46, -17]\n",
    "\n",
    "# Fit equation using least squares optimization\n",
    "plsq = leastsq(residuals, p0, args=(y, v))\n",
    "\n",
    "# Plot results\n",
    "vv = np.linspace(-100, 60, num=501)\n",
    "plt.plot(vv,peval(vv,plsq[0]),v,y,'o')\n",
    "axes = plt.gca()\n",
    "axes.set_ylim([-0.1,1.1])\n",
    "plt.title('Least-squares Sigmoid fit to NaP_Inf_act')\n",
    "plt.xlabel('Vmemb (mV)')\n",
    "plt.ylabel('activation Steady State')\n",
    "plt.legend(['Fit', 'NaT_Inf_act'], loc='center right')\n",
    "for i, (param, est) in enumerate(zip('AB', plsq[0])):\n",
    "    plt.text(-40, 0.3-i*0.12, 'est(%s) = %.2f' % (param, est))\n",
    "#plt.savefig('iAMC_Na_Inf_act.png')"
   ]
  },
  {
   "cell_type": "code",
   "execution_count": 4,
   "metadata": {
    "collapsed": false
   },
   "outputs": [],
   "source": [
    "#Least Squares fit for iAMC_NaP channel Inf activation\n",
    "#load python packages\n",
    "import numpy as np\n",
    "import matplotlib.pyplot as plt\n",
    "%matplotlib qt4\n",
    "from scipy.optimize import leastsq\n",
    "\n",
    "# set parameters for curve-fit\n",
    "v = np.array([-70, -65, -60,-55])\n",
    "ENa = 67\n",
    "Gmax = 109.0/(-40-ENa)\n",
    "i = np.array([14.03, 33.44, 58.98, 79.38])\n",
    "df = v-ENa\n",
    "G = i/df\n",
    "y = G/Gmax\n",
    "\n",
    "def func(v, A, B):\n",
    "    \"\"\"Exponential equation.\"\"\"\n",
    "    return 1/(1+(np.exp((v-A)/B)))\n",
    "\n",
    "def residuals(p, y, v):\n",
    "    \"\"\"Deviations of data from fitted DE curve\"\"\"\n",
    "    A,B = p\n",
    "    err = y-func(v, A, B)\n",
    "    return err\n",
    "\n",
    "def peval(v, p):\n",
    "    \"\"\"Evaluated value at v with current parameters.\"\"\"\n",
    "    A,B = p\n",
    "    return func(v, A, B)\n",
    "\n",
    "# Initial guess for parameters\n",
    "# p0 = [60, 5, 8]\n",
    "p0 = [-46, -17]\n",
    "\n",
    "# Fit equation using least squares optimization\n",
    "plsq = leastsq(residuals, p0, args=(y, v))\n",
    "\n",
    "# Plot results\n",
    "vv = np.linspace(-100, 60, num=501)\n",
    "vhalf = -59\n",
    "scale = -4.9\n",
    "minf = 0.499622025796/(1+np.exp((vv-vhalf)/scale))\n",
    "plt.plot(vv,peval(vv,plsq[0]),vv,minf,v,y,'o')\n",
    "axes = plt.gca()\n",
    "axes.set_ylim([-0.1,1.1])\n",
    "plt.title('Least-squares Sigmoid fit to NaP_Inf_act')\n",
    "plt.xlabel('Vmemb (mV)')\n",
    "plt.ylabel('activation Steady State')\n",
    "plt.legend(['Fit', 'Uncorrected Fit', 'NaT_Inf_act'], loc='upper left')\n",
    "for i, (param, est) in enumerate(zip('AB', plsq[0])):\n",
    "    plt.text(-40, 0.3-i*0.12, 'est(%s) = %.2f' % (param, est))"
   ]
  },
  {
   "cell_type": "code",
   "execution_count": null,
   "metadata": {
    "collapsed": true
   },
   "outputs": [],
   "source": []
  }
 ],
 "metadata": {
  "kernelspec": {
   "display_name": "Python 2",
   "language": "python",
   "name": "python2"
  },
  "language_info": {
   "codemirror_mode": {
    "name": "ipython",
    "version": 2
   },
   "file_extension": ".py",
   "mimetype": "text/x-python",
   "name": "python",
   "nbconvert_exporter": "python",
   "pygments_lexer": "ipython2",
   "version": "2.7.10"
  }
 },
 "nbformat": 4,
 "nbformat_minor": 0
}
