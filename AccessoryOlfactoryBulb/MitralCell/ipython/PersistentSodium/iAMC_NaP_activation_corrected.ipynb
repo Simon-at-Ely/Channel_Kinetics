{
 "cells": [
  {
   "cell_type": "markdown",
   "metadata": {},
   "source": [
    "#Correcting NaP steady state curve fit#\n",
    "The caclulation of Gmax by python had given an incorrect answer because all the components of the division had been integers. In python this automatically treated as an integer division so the answer is given as an integer rather than a float. Here we refit the steady state activation to correct the mistake:\n",
    "\n",
    "![Figure 1](figure_2.jpeg \"Figure 1\")<h3 style=\"text-align: center;\" markdown=\"1\">Figure 1</h3>"
   ]
  },
  {
   "cell_type": "markdown",
   "metadata": {},
   "source": [
    "#Adjusting timing for Corrected NaP channel#\n",
    "The density of the NaP channel was adjusted to give approximately the same time for the two versions of NaP channel in comparison with the original.\n",
    "\n",
    "![Figure 2](figure_3.jpeg \"Figure 2\")<h3 style=\"text-align: center;\" markdown=\"1\">Figure 2</h3>\n",
    "\n",
    "Sim 1 Orignal NaP channel (Figure10H2Top variant) at a density of 4.0E-7 mS μm-2 in dendrites and soma\n",
    "\n",
    "Sim 2 Corrected NaP channel (Figure10H2Top variant) at density of 5.6475E-9 mS μm-2 in the dendites and soma\n",
    "\n",
    "![Figure 3](figure_4.jpeg \"Figure 3\")<h3 style=\"text-align: center;\" markdown=\"1\">Figure 3</h3>\n",
    "\n",
    "Sim 3 Orignal NaP channel (Figure10H3Top variant) at a density of 4.0E-7 mS μm-2 in dendrites and soma\n",
    "\n",
    "Sim 4 Corrected NaP channel (Figure10H3Top variant) at density of 5.6475E-9 mS μm-2 in the dendites and soma"
   ]
  },
  {
   "cell_type": "markdown",
   "metadata": {},
   "source": [
    "#Incorporating the Corrected NaP channel into the iAMC model#\n",
    "Using the ajusted demsities for the corrected NaP channels substituted into the standard iAMC models (both variants Figure10H2Top and Figure10H3Top).\n",
    "\n",
    "![Figure 4](figure_5.jpeg \"Figure 4: Figure10H2Top corrected NaP\")<h3 style=\"text-align: center;\" markdown=\"1\">Figure 4: Figure10H2Top corrected NaP</h3>\n",
    "\n",
    "![Figure 5](figure_7.jpeg \"Figure 5: Figure10H2Top original NaP\")<h3 style=\"text-align: center;\" markdown=\"1\">Figure 5: Figure10H2Top original NaP</h3>\n",
    "\n",
    "![Figure 6](figure_6.jpeg \"Figure 6: Figure10H3Top corrected NaP\")<h3 style=\"text-align: center;\" markdown=\"1\">Figure 6: Figure10H3Top corrected NaP</h3>\n",
    "\n",
    "![Figure 7](figure_8.jpeg \"Figure 7: Figure10H3Top original NaP\")<h3 style=\"text-align: center;\" markdown=\"1\">Figure 7: Figure10H3Top original NaP</h3>"
   ]
  },
  {
   "cell_type": "markdown",
   "metadata": {},
   "source": [
    "#Reducing the Density of Kdr channel compensates for the slightly Lower depolarisations achieved by the lower densities of NaP#\n",
    "\n",
    "![Figure 8](figure_9.jpeg \"Figure 8: Figure10H2Top corrected NaP\")<h3 style=\"text-align: center;\" markdown=\"1\">Figure 8: Figure10H2Top corrected NaP Kdr channel density reduced from 1.0E-6 mS μm-2 4.3E-7</h3>\n",
    "\n",
    "![Figure 9](figure_10.jpeg \"Figure 9: Figure10H3Top corrected NaP\")<h3 style=\"text-align: center;\" markdown=\"1\">Figure 9: Figure10H3Top corrected NaP Kdr channel density reduced from 1.8E-6 mS μm-2 9.0E-7</h3>\n",
    "\n",
    "The membrane potential oscilations are now closer to behaviour presented in the paper."
   ]
  },
  {
   "cell_type": "code",
   "execution_count": 1,
   "metadata": {
    "collapsed": true
   },
   "outputs": [],
   "source": [
    "#Least Squares fit for iAMC_NaP channel Inf activation\n",
    "#load python packages\n",
    "import numpy as np\n",
    "import matplotlib.pyplot as plt\n",
    "%matplotlib qt4\n",
    "from scipy.optimize import leastsq\n",
    "\n",
    "# set parameters for curve-fit\n",
    "v = np.array([-70, -65, -60,-55])\n",
    "ENa = 67\n",
    "Gmax = 109.0/(-40-ENa)\n",
    "i = np.array([14.03, 33.44, 58.98, 79.38])\n",
    "df = v-ENa\n",
    "G = i/df\n",
    "y = G/Gmax\n",
    "\n",
    "def func(v, A, B):\n",
    "    \"\"\"Exponential equation.\"\"\"\n",
    "    return 1/(1+(np.exp((v-A)/B)))\n",
    "\n",
    "def residuals(p, y, v):\n",
    "    \"\"\"Deviations of data from fitted DE curve\"\"\"\n",
    "    A,B = p\n",
    "    err = y-func(v, A, B)\n",
    "    return err\n",
    "\n",
    "def peval(v, p):\n",
    "    \"\"\"Evaluated value at v with current parameters.\"\"\"\n",
    "    A,B = p\n",
    "    return func(v, A, B)\n",
    "\n",
    "# Initial guess for parameters\n",
    "# p0 = [60, 5, 8]\n",
    "p0 = [-46, -17]\n",
    "\n",
    "# Fit equation using least squares optimization\n",
    "plsq = leastsq(residuals, p0, args=(y, v))\n",
    "\n",
    "# Plot results\n",
    "vv = np.linspace(-100, 60, num=501)\n",
    "plt.plot(vv,peval(vv,plsq[0]),v,y,'o')\n",
    "axes = plt.gca()\n",
    "axes.set_ylim([-0.1,1.1])\n",
    "plt.title('Least-squares Sigmoid fit to NaP_Inf_act')\n",
    "plt.xlabel('Vmemb (mV)')\n",
    "plt.ylabel('activation Steady State')\n",
    "plt.legend(['Fit', 'NaT_Inf_act'], loc='center right')\n",
    "for i, (param, est) in enumerate(zip('AB', plsq[0])):\n",
    "    plt.text(-40, 0.3-i*0.12, 'est(%s) = %.2f' % (param, est))\n",
    "#plt.savefig('iAMC_Na_Inf_act.png')"
   ]
  },
  {
   "cell_type": "code",
   "execution_count": 4,
   "metadata": {
    "collapsed": false
   },
   "outputs": [],
   "source": [
    "#Least Squares fit for iAMC_NaP channel Inf activation\n",
    "#load python packages\n",
    "import numpy as np\n",
    "import matplotlib.pyplot as plt\n",
    "%matplotlib qt4\n",
    "from scipy.optimize import leastsq\n",
    "\n",
    "# set parameters for curve-fit\n",
    "v = np.array([-70, -65, -60,-55])\n",
    "ENa = 67\n",
    "Gmax = 109.0/(-40-ENa)\n",
    "i = np.array([14.03, 33.44, 58.98, 79.38])\n",
    "df = v-ENa\n",
    "G = i/df\n",
    "y = G/Gmax\n",
    "\n",
    "def func(v, A, B):\n",
    "    \"\"\"Exponential equation.\"\"\"\n",
    "    return 1/(1+(np.exp((v-A)/B)))\n",
    "\n",
    "def residuals(p, y, v):\n",
    "    \"\"\"Deviations of data from fitted DE curve\"\"\"\n",
    "    A,B = p\n",
    "    err = y-func(v, A, B)\n",
    "    return err\n",
    "\n",
    "def peval(v, p):\n",
    "    \"\"\"Evaluated value at v with current parameters.\"\"\"\n",
    "    A,B = p\n",
    "    return func(v, A, B)\n",
    "\n",
    "# Initial guess for parameters\n",
    "# p0 = [60, 5, 8]\n",
    "p0 = [-46, -17]\n",
    "\n",
    "# Fit equation using least squares optimization\n",
    "plsq = leastsq(residuals, p0, args=(y, v))\n",
    "\n",
    "# Plot results\n",
    "vv = np.linspace(-100, 60, num=501)\n",
    "vhalf = -59\n",
    "scale = -4.9\n",
    "minf = 0.499622025796/(1+np.exp((vv-vhalf)/scale))\n",
    "plt.plot(vv,peval(vv,plsq[0]),vv,minf,v,y,'o')\n",
    "axes = plt.gca()\n",
    "axes.set_ylim([-0.1,1.1])\n",
    "plt.title('Least-squares Sigmoid fit to NaP_Inf_act')\n",
    "plt.xlabel('Vmemb (mV)')\n",
    "plt.ylabel('activation Steady State')\n",
    "plt.legend(['Fit', 'Uncorrected Fit', 'NaT_Inf_act'], loc='upper left')\n",
    "for i, (param, est) in enumerate(zip('AB', plsq[0])):\n",
    "    plt.text(-40, 0.3-i*0.12, 'est(%s) = %.2f' % (param, est))"
   ]
  },
  {
   "cell_type": "code",
   "execution_count": 11,
   "metadata": {
    "collapsed": false
   },
   "outputs": [
    {
     "data": {
      "text/plain": [
       "<matplotlib.legend.Legend at 0x7f345cd6ca90>"
      ]
     },
     "execution_count": 11,
     "metadata": {},
     "output_type": "execute_result"
    }
   ],
   "source": [
    "#load python packages\n",
    "import pandas as pd\n",
    "import matplotlib.pyplot as plt\n",
    "%matplotlib qt4\n",
    "\n",
    "#load data\n",
    "S1 = pd.read_csv('Sim_1.dat', header=None, delim_whitespace=True)\n",
    "S2 = pd.read_csv('Sim_2.dat', header=None, delim_whitespace=True)\n",
    "t = pd.read_csv('time2000.dat', header=None, delim_whitespace=True)\n",
    "\n",
    "#plot Vmemb\n",
    "plt.plot(t, S1, t, S2)\n",
    "plt.xlabel('time (ms)')\n",
    "plt.ylabel('Vmemb(mV)')\n",
    "plt.title('iAMC NaP correction')\n",
    "plt.legend(['Sim_1', 'Sim_2'], loc='upper right')"
   ]
  },
  {
   "cell_type": "code",
   "execution_count": 10,
   "metadata": {
    "collapsed": false
   },
   "outputs": [
    {
     "data": {
      "text/plain": [
       "<matplotlib.legend.Legend at 0x7f345dea1d90>"
      ]
     },
     "execution_count": 10,
     "metadata": {},
     "output_type": "execute_result"
    }
   ],
   "source": [
    "#load python packages\n",
    "import pandas as pd\n",
    "import matplotlib.pyplot as plt\n",
    "%matplotlib qt4\n",
    "\n",
    "#load data\n",
    "S1 = pd.read_csv('Sim_3b.dat', header=None, delim_whitespace=True)\n",
    "S2 = pd.read_csv('Sim_4.dat', header=None, delim_whitespace=True)\n",
    "t = pd.read_csv('time2000.dat', header=None, delim_whitespace=True)\n",
    "\n",
    "#plot Vmemb\n",
    "plt.plot(t, S1, t, S2)\n",
    "plt.xlabel('time (ms)')\n",
    "plt.ylabel('Vmemb(mV)')\n",
    "plt.title('iAMC NaP correction')\n",
    "plt.legend(['Sim_3', 'Sim_4'], loc='upper right')"
   ]
  },
  {
   "cell_type": "code",
   "execution_count": 13,
   "metadata": {
    "collapsed": false
   },
   "outputs": [
    {
     "data": {
      "text/plain": [
       "<matplotlib.legend.Legend at 0x7f345b85bb10>"
      ]
     },
     "execution_count": 13,
     "metadata": {},
     "output_type": "execute_result"
    }
   ],
   "source": [
    "#load python packages\n",
    "import pandas as pd\n",
    "import matplotlib.pyplot as plt\n",
    "%matplotlib qt4\n",
    "\n",
    "#load data\n",
    "S1 = pd.read_csv('Sim_5.dat', header=None, delim_whitespace=True)\n",
    "t = pd.read_csv('time60000.dat', header=None, delim_whitespace=True)\n",
    "\n",
    "#plot Vmemb\n",
    "plt.plot(t, S1)\n",
    "plt.xlabel('time (ms)')\n",
    "plt.ylabel('Vmemb(mV)')\n",
    "plt.title('iAMC NaP correction Figure10H2Top')\n",
    "plt.legend(['Sim_5'], loc='upper right')"
   ]
  },
  {
   "cell_type": "code",
   "execution_count": 16,
   "metadata": {
    "collapsed": false
   },
   "outputs": [
    {
     "data": {
      "text/plain": [
       "<matplotlib.legend.Legend at 0x7f3459ed4f50>"
      ]
     },
     "execution_count": 16,
     "metadata": {},
     "output_type": "execute_result"
    }
   ],
   "source": [
    "#load python packages\n",
    "import pandas as pd\n",
    "import matplotlib.pyplot as plt\n",
    "%matplotlib qt4\n",
    "\n",
    "#load data\n",
    "S1 = pd.read_csv('Sim_7.dat', header=None, delim_whitespace=True)\n",
    "t = pd.read_csv('time60000.dat', header=None, delim_whitespace=True)\n",
    "\n",
    "#plot Vmemb\n",
    "plt.plot(t, S1)\n",
    "plt.xlabel('time (ms)')\n",
    "plt.ylabel('Vmemb(mV)')\n",
    "plt.title('iAMC NaP correction Figure10H2Top')\n",
    "plt.legend(['Sim_7'], loc='upper right')"
   ]
  },
  {
   "cell_type": "code",
   "execution_count": 17,
   "metadata": {
    "collapsed": false
   },
   "outputs": [
    {
     "data": {
      "text/plain": [
       "<matplotlib.legend.Legend at 0x7f345ce35590>"
      ]
     },
     "execution_count": 17,
     "metadata": {},
     "output_type": "execute_result"
    }
   ],
   "source": [
    "#load python packages\n",
    "import pandas as pd\n",
    "import matplotlib.pyplot as plt\n",
    "%matplotlib qt4\n",
    "\n",
    "#load data\n",
    "S1 = pd.read_csv('Sim_8.dat', header=None, delim_whitespace=True)\n",
    "t = pd.read_csv('time60000.dat', header=None, delim_whitespace=True)\n",
    "\n",
    "#plot Vmemb\n",
    "plt.plot(t, S1)\n",
    "plt.xlabel('time (ms)')\n",
    "plt.ylabel('Vmemb(mV)')\n",
    "plt.title('iAMC NaP correction Figure10H2Top')\n",
    "plt.legend(['Sim_8'], loc='upper right')"
   ]
  },
  {
   "cell_type": "code",
   "execution_count": 20,
   "metadata": {
    "collapsed": false
   },
   "outputs": [
    {
     "data": {
      "text/plain": [
       "<matplotlib.legend.Legend at 0x7f34585f7990>"
      ]
     },
     "execution_count": 20,
     "metadata": {},
     "output_type": "execute_result"
    }
   ],
   "source": [
    "#load python packages\n",
    "import pandas as pd\n",
    "import matplotlib.pyplot as plt\n",
    "%matplotlib qt4\n",
    "\n",
    "#load data\n",
    "S1 = pd.read_csv('Sim_9.dat', header=None, delim_whitespace=True)\n",
    "t = pd.read_csv('time60000.dat', header=None, delim_whitespace=True)\n",
    "\n",
    "#plot Vmemb\n",
    "plt.plot(t, S1)\n",
    "plt.xlabel('time (ms)')\n",
    "plt.ylabel('Vmemb(mV)')\n",
    "plt.title('iAMC NaP correction Figure10H2Top')\n",
    "plt.legend(['Sim_10'], loc='upper right')"
   ]
  },
  {
   "cell_type": "code",
   "execution_count": 21,
   "metadata": {
    "collapsed": false
   },
   "outputs": [
    {
     "data": {
      "text/plain": [
       "<matplotlib.legend.Legend at 0x7f34585aeb50>"
      ]
     },
     "execution_count": 21,
     "metadata": {},
     "output_type": "execute_result"
    }
   ],
   "source": [
    "#load python packages\n",
    "import pandas as pd\n",
    "import matplotlib.pyplot as plt\n",
    "%matplotlib qt4\n",
    "\n",
    "#load data\n",
    "S1 = pd.read_csv('Sim_10.dat', header=None, delim_whitespace=True)\n",
    "t = pd.read_csv('time60000.dat', header=None, delim_whitespace=True)\n",
    "\n",
    "#plot Vmemb\n",
    "plt.plot(t, S1)\n",
    "plt.xlabel('time (ms)')\n",
    "plt.ylabel('Vmemb(mV)')\n",
    "plt.title('iAMC NaP correction Figure10H2Top')\n",
    "plt.legend(['Sim_9'], loc='upper right')"
   ]
  },
  {
   "cell_type": "code",
   "execution_count": null,
   "metadata": {
    "collapsed": true
   },
   "outputs": [],
   "source": []
  }
 ],
 "metadata": {
  "kernelspec": {
   "display_name": "Python 2",
   "language": "python",
   "name": "python2"
  },
  "language_info": {
   "codemirror_mode": {
    "name": "ipython",
    "version": 2
   },
   "file_extension": ".py",
   "mimetype": "text/x-python",
   "name": "python",
   "nbconvert_exporter": "python",
   "pygments_lexer": "ipython2",
   "version": "2.7.10"
  }
 },
 "nbformat": 4,
 "nbformat_minor": 0
}
