{
 "cells": [
  {
   "cell_type": "markdown",
   "metadata": {},
   "source": [
    "#Modelling Deactivation\n",
    "\n",
    "##Introduction\n",
    "\n",
    "**Generally ion channel models rely on one or two gating variables. The fast transient Sodium (NaT) channel for example is modelled with activation gate variable and inactivation gate variable. Both of these gating variables are voltage dependent.**\n",
    "\n",
    "**For the NaT channel this is a reasonable approximation as inactivation follows on rapidly after activation and therefore hides deactivation. Deactivation is a none-voltage dependent gating variable that closes the channel relatively quickly after activation. It is an important factor for modelling the Persistent Sodium (NaP) channel that inactivates slowly and the delayed rectifier Potassium (Kdr) channel that does not inactivate.**\n",
    "\n",
    "**Modelling the NaP channel without a deactivation gate variable produces an extended conductance after activation that only slowly inactivates:**\n",
    "\n",
    "![alt text](Sim_52_NaP_cond.png)\n",
    "**NaP, Nax, Kdr, KA, BK, CaR + Leak: NaP Conductance Plot**\n",
    "\n",
    "**Modelling the Kdr channel without a deactivation gate variable produces a deep after hyperpolarisation after the action potential:**\n",
    "\n",
    "![alt text](Sim_44.png)\n",
    "**NaP, Nax, Kdr, KA, BK, CaR + Leak: Vm plot**"
   ]
  },
  {
   "cell_type": "markdown",
   "metadata": {},
   "source": [
    "##Modelling Gating Variables\n",
    "\n",
    "**Following the conventions of Hodgkin and Huxley formalism a channel conductance is modelled as its maximum conductance ($\\bar{g}$) multiplied be each of the gating variables:**\n",
    "\n",
    "e.g. $$G_{Na}=\\bar{g}_{Na}m^3h$$ **Equation (1)**\n",
    "\n",
    "**Each gating variable is calculated as a differential equation:**\n",
    "\n",
    "e.g. $$\\frac{dm}{dt}={\\alpha}_m(V)(1-m)-{\\beta}_m(V)m$$ **Equation (2)**\n",
    "\n",
    "**However we are defining the model in terms of Time Course ($\\tau$) and Steady State ($\\infty$) so the differential equation becomes:**\n",
    "\n",
    "$$\\frac{dm}{dt}=\\frac{m_\\infty(V)}{\\tau_m(V)}(1-m)-\\frac{1-m_\\infty(V)}{\\tau_m(V)}m$$ **Equation (3)**\n"
   ]
  },
  {
   "cell_type": "markdown",
   "metadata": {},
   "source": [
    "##Modelling Deactivation as a Gating Variable\n",
    "\n",
    "**Deactivation has to be relative to the degree of activation at that instant in time. Taking a simple relationship relative to time (we will refer to the Deactivation gate with the letter 'n'):**\n",
    "\n",
    "$$\\frac{dn}{dt}=\\frac{t}{-\\tau_n(V)}(1-n)-\\frac{1-t}{-\\tau_n(V)}n$$ **Equation (4)**\n",
    "\n",
    "**Will mean that deactivation is a continuous opposing force rather than being dependent on activation.**\n",
    "\n",
    "**The steady state variable for activation ($m_\\infty$) needs to be used to regulate the timing. However simply dividing it by -tau gives an equation that goes from 0 to a -value. This will not work as it renders the channel perminently closed. However changing the sign on the sigmoid equation scale value will give an equation for ($n_\\infty$)that goes from 1 to 0 closing the channel with the right degree relative to activation.**\n",
    "\n",
    "**The time course of deactivation needs also to be relative to activation, so if $\\tau_n$ is short, it would make sense to use $\\tau_m +\\tau_n$.**"
   ]
  },
  {
   "cell_type": "code",
   "execution_count": null,
   "metadata": {
    "collapsed": true
   },
   "outputs": [],
   "source": []
  }
 ],
 "metadata": {
  "kernelspec": {
   "display_name": "Python 2",
   "language": "python",
   "name": "python2"
  },
  "language_info": {
   "codemirror_mode": {
    "name": "ipython",
    "version": 2
   },
   "file_extension": ".py",
   "mimetype": "text/x-python",
   "name": "python",
   "nbconvert_exporter": "python",
   "pygments_lexer": "ipython2",
   "version": "2.7.10"
  }
 },
 "nbformat": 4,
 "nbformat_minor": 0
}
