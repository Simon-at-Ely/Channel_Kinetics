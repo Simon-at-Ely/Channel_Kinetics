{
 "cells": [
  {
   "cell_type": "markdown",
   "metadata": {},
   "source": [
    "#Replacing the Migliore Sodium Channels in the iAMC model#\n",
    "\n",
    "As we were working with limited time to develop the iAMC model to support http://www.jneurosci.org/content/36/11/3127 we used the Miglore et al (2005) sodium channels from their MOB mitral cell model. We do have some kinetics data that has been used fit a NaT channel tau and inf equations https://github.com/Simon-at-Ely/Channel_Kinetics/blob/master/AccessoryOlfactoryBulb/MitralCell/ipython/TransientSodium/iAMC_NaT.ipynb.\n",
    "\n",
    "Here we experiment with NaT channel densities to try to match the behaviour in Figure10H2top and Figures10H3top from the paper."
   ]
  },
  {
   "cell_type": "markdown",
   "metadata": {},
   "source": [
    "#Simulation 1#\n",
    "\n",
    "**Original channel densities for Figure10H3top (these were the channel densities that worked for the Migliore sodium channels).**\n",
    "\n",
    "**BK_iAMC_ChannelML** (9.0E-9 mS μm-2) [soma_group]\n",
    "\n",
    "**CaV_R_iAMC_ChannelML** (1.0E-11 mS μm-2) [dendrite_group, soma_group]\n",
    "\n",
    "**Gran_CaPool_98** (5.2E-6 mS μm-2) [dendrite_group, soma_group]\n",
    "\n",
    "**KA_iAMC_ChannelML** (2.868E-7 mS μm-2) [axon_group]\n",
    "\n",
    "**KA_iAMC_ChannelML** (2.868E-8 mS μm-2) [dendrite_group, soma_group]\n",
    "\n",
    "**Kdr_mod1_iAMC_ChannelML** (1.8E-6 mS μm-2) [all]\n",
    "\n",
    "**LeakConductance** (1.676E-10 mS μm-2) [all]\n",
    "\n",
    "**NaP_mod1_iAMC_ChannelML** (4.0E-7 mS μm-2) [dendrite_group, soma_group]\n",
    "\n",
    "**NaT_iAMC_ChannelML** (7.0E-7 mS μm-2) [axon_group]\n",
    "\n",
    "**NaT_iAMC_ChannelML** (7.0E-8 mS μm-2) [dendrite_group, soma_group]\n",
    "\n",
    "#Simulation 2#\n",
    "\n",
    "**Increase NaT densities until a action potential is produced**\n",
    "\n",
    "**BK_iAMC_ChannelML** (9.0E-9 mS μm-2) [soma_group]\n",
    "\n",
    "**CaV_R_iAMC_ChannelML** (1.0E-11 mS μm-2) [dendrite_group, soma_group]\n",
    "\n",
    "**Gran_CaPool_98** (5.2E-6 mS μm-2) [dendrite_group, soma_group]\n",
    "\n",
    "**KA_iAMC_ChannelML** (2.868E-7 mS μm-2) [axon_group]\n",
    "\n",
    "**KA_iAMC_ChannelML** (2.868E-8 mS μm-2) [dendrite_group, soma_group]\n",
    "\n",
    "**Kdr_mod1_iAMC_ChannelML** (1.8E-6 mS μm-2) [all]\n",
    "\n",
    "**LeakConductance** (1.676E-10 mS μm-2) [all]\n",
    "\n",
    "**NaP_mod1_iAMC_ChannelML** (4.0E-7 mS μm-2) [dendrite_group, soma_group]\n",
    "\n",
    "**NaT_iAMC_ChannelML** (4.0E-6 mS μm-2) [axon_group]\n",
    "\n",
    "**NaT_iAMC_ChannelML** (4.0E-7 mS μm-2) [dendrite_group, soma_group]\n",
    "\n",
    "![](figure_1.jpeg)"
   ]
  },
  {
   "cell_type": "markdown",
   "metadata": {},
   "source": [
    "#Simulation 3#\n",
    "\n",
    "**Original Figure10H3top with Migliore sodium channels).**\n",
    "\n",
    "**BK_iAMC_ChannelML** (9.0E-9 mS μm-2) [soma_group]\n",
    "\n",
    "**CaV_R_iAMC_ChannelML** (1.0E-11 mS μm-2) [dendrite_group, soma_group]\n",
    "\n",
    "**Gran_CaPool_98** (5.2E-6 mS μm-2) [dendrite_group, soma_group]\n",
    "\n",
    "**KA_iAMC_ChannelML** (2.868E-7 mS μm-2) [axon_group]\n",
    "\n",
    "**KA_iAMC_ChannelML** (2.868E-8 mS μm-2) [dendrite_group, soma_group]\n",
    "\n",
    "**Kdr_mod1_iAMC_ChannelML** (1.8E-6 mS μm-2) [all]\n",
    "\n",
    "**LeakConductance** (1.676E-10 mS μm-2) [all]\n",
    "\n",
    "**NaP_mod1_iAMC_ChannelML** (4.0E-7 mS μm-2) [dendrite_group, soma_group]\n",
    "\n",
    "**NaT_iAMC_ChannelML** (7.0E-7 mS μm-2) [axon_group]\n",
    "\n",
    "**NaT_iAMC_ChannelML** (7.0E-8 mS μm-2) [dendrite_group, soma_group]\n",
    "\n",
    "#Simulation 2#\n",
    "\n",
    "**Removing NaP channel still produces an action potential with NaT at the densities found in Simulation 2**\n",
    "\n",
    "**BK_iAMC_ChannelML** (9.0E-9 mS μm-2) [soma_group]\n",
    "\n",
    "**CaV_R_iAMC_ChannelML** (1.0E-11 mS μm-2) [dendrite_group, soma_group]\n",
    "\n",
    "**Gran_CaPool_98** (5.2E-6 mS μm-2) [dendrite_group, soma_group]\n",
    "\n",
    "**KA_iAMC_ChannelML** (2.868E-7 mS μm-2) [axon_group]\n",
    "\n",
    "**KA_iAMC_ChannelML** (2.868E-8 mS μm-2) [dendrite_group, soma_group]\n",
    "\n",
    "**Kdr_mod1_iAMC_ChannelML** (1.8E-6 mS μm-2) [all]\n",
    "\n",
    "**LeakConductance** (1.676E-10 mS μm-2) [all]\n",
    "\n",
    "**NaP_mod1_iAMC_ChannelML** (0 mS μm-2) [dendrite_group, soma_group]\n",
    "\n",
    "**NaxSH0_ChannelML** (4.0E-6 mS μm-2) [axon_group]\n",
    "\n",
    "**NaxSH10_ChannelML** (4.0E-7 mS μm-2) [dendrite_group, soma_group]\n",
    "\n",
    "![](figure_2.jpeg)"
   ]
  },
  {
   "cell_type": "code",
   "execution_count": 1,
   "metadata": {
    "collapsed": false
   },
   "outputs": [
    {
     "data": {
      "text/plain": [
       "<matplotlib.legend.Legend at 0x7fde90781350>"
      ]
     },
     "execution_count": 1,
     "metadata": {},
     "output_type": "execute_result"
    }
   ],
   "source": [
    "#load python packages\n",
    "#%pylab inline\n",
    "import pandas as pd\n",
    "import matplotlib.pyplot as plt\n",
    "%matplotlib qt4\n",
    "\n",
    "#load data\n",
    "S1 = pd.read_csv('Sim_1.dat', header=None, delim_whitespace=True)\n",
    "S2 = pd.read_csv('Sim_2.dat', header=None, delim_whitespace=True)\n",
    "t = pd.read_csv('time.dat', header=None, delim_whitespace=True)\n",
    "\n",
    "#plot Vmemb\n",
    "plt.plot(t, S1, t, S2)\n",
    "plt.xlabel('time (ms)')\n",
    "plt.ylabel('Vmemb(mV)')\n",
    "plt.title('iAMC NaT model development')\n",
    "plt.legend(['Sim_1', 'Sim_2'], loc='upper right')"
   ]
  },
  {
   "cell_type": "code",
   "execution_count": 4,
   "metadata": {
    "collapsed": false
   },
   "outputs": [
    {
     "data": {
      "text/plain": [
       "<matplotlib.legend.Legend at 0x7fde87df6e90>"
      ]
     },
     "execution_count": 4,
     "metadata": {},
     "output_type": "execute_result"
    }
   ],
   "source": [
    "#load python packages\n",
    "#%pylab inline\n",
    "import pandas as pd\n",
    "import matplotlib.pyplot as plt\n",
    "%matplotlib qt4\n",
    "\n",
    "#load data\n",
    "S3 = pd.read_csv('Sim_3.dat', header=None, delim_whitespace=True)\n",
    "S4 = pd.read_csv('Sim_4.dat', header=None, delim_whitespace=True)\n",
    "t = pd.read_csv('time_1000.dat', header=None, delim_whitespace=True)\n",
    "\n",
    "#plot Vmemb\n",
    "plt.plot(t, S3, t, S4)\n",
    "plt.xlabel('time (ms)')\n",
    "plt.ylabel('Vmemb(mV)')\n",
    "plt.title('iAMC NaT model development')\n",
    "plt.legend(['Sim_3', 'Sim_4'], loc='upper right')"
   ]
  }
 ],
 "metadata": {
  "kernelspec": {
   "display_name": "Python 2",
   "language": "python",
   "name": "python2"
  },
  "language_info": {
   "codemirror_mode": {
    "name": "ipython",
    "version": 2
   },
   "file_extension": ".py",
   "mimetype": "text/x-python",
   "name": "python",
   "nbconvert_exporter": "python",
   "pygments_lexer": "ipython2",
   "version": "2.7.10"
  }
 },
 "nbformat": 4,
 "nbformat_minor": 0
}
