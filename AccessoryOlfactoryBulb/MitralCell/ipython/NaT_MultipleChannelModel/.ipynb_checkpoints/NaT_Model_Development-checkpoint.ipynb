{
 "cells": [
  {
   "cell_type": "markdown",
   "metadata": {},
   "source": [
    "#Replacing the Migliore Sodium Channels in the iAMC model#\n",
    "\n",
    "As we were working with limited time to develop the iAMC model to support http://www.jneurosci.org/content/36/11/3127 we used the Miglore et al (2005) sodium channels from their MOB mitral cell model. We do have some kinetics data that has been used fit a NaT channel tau and inf equations https://github.com/Simon-at-Ely/Channel_Kinetics/blob/master/AccessoryOlfactoryBulb/MitralCell/ipython/TransientSodium/iAMC_NaT.ipynb.\n",
    "\n",
    "Here we experiment with NaT channel densities to try to match the behaviour in Figure10H2top and Figures10H3top from the paper."
   ]
  },
  {
   "cell_type": "markdown",
   "metadata": {},
   "source": [
    "#Work Summary#\n",
    "* **When our NaT channel is used to replace the Migliore NaX channels in the iAMC model at the densities used in the original model the simulation does not produce an action potential (Simulation 1, Figure 1).**\n",
    "* **NaT densities can be increased to a point where an action potential is produced (Simulation 2, Figure 1).**\n",
    "\n",
    "![Figure 1](figure_1.jpeg \"Figure 1\")<h3 style=\"text-align: center;\" markdown=\"1\">Figure 1</h3>\n",
    "\n",
    "\n",
    "* **Removing the persistent sodium channel (NaP) shows that at the Simulation 2 density that NaT is intrinsically firing (Simulation 4, Figure 2) and is not driven by NaP as in the original model (Simulation 3, Figure 2).**\n",
    "\n",
    "![Figure 2](figure_2.jpeg \"Figure 2\")<h3 style=\"text-align: center;\" markdown=\"1\">Figure 2</h3>\n",
    "\n",
    "\n",
    "* **NaT was therefore returned to the original density and NaP increased 10 fold but no action potential was achieved (Simulation 5, Figure 3).**\n",
    "* **Comparison of Simulations 1 and 5 with Simulation 3 shows that NaT is contributing to the Subthreshold sodium leak of the NaP (Figure 3).**\n",
    "\n",
    "![Figure 3](figure_3.jpeg \"Figure 3\")<h3 style=\"text-align: center;\" markdown=\"1\">Figure 3</h3>\n",
    "\n",
    "\n",
    "* **Comparing the steady state kinetics of the Migliore Sodium channels with the NaT it can be seen that the activation of NaT is shunted to much more negative values (Figure 4).**\n",
    "\n",
    "![Figure 4](figure_4.jpeg \"Figure 4\")<h3 style=\"text-align: center;\" markdown=\"1\">Figure 4</h3>\n",
    "\n",
    "* **The data curve fits that produced these steady state equations appear to be reasonable although it would have been better to have a few more data points on the rapidly changing part of the activation curve (Figure 6 and 7)**  \n",
    "\n",
    "![Figure 5](iAMC_Na_Inf_act.png \"Figure 5\")<h3 style=\"text-align: center;\" markdown=\"1\">Figure 5</h3>\n",
    "![Figure 6](iAMC_Na_Inf_inact.png \"Figure 6\")<h3 style=\"text-align: center;\" markdown=\"1\">Figure 6</h3>\n",
    "\n",
    "* **Turning to a comparison of the time constants (Figure 7) the obvious point that needs correction is a boundary condition needs to be set for the NaT activation fit below Vm = -60.**\n",
    "\n",
    "![Figure 7](figure_7.jpeg \"Figure 7\")<h3 style=\"text-align: center;\" markdown=\"1\">Figure 7</h3>\n",
    "\n",
    "* **Setting Tau_m (the NaT activation time constant) to 1.15 ms when Vm is below -60 mV has little effect (Figure 8 comparison between Simulation 1 and the modified NaT Simulation 6).**\n",
    "\n",
    "![Figure 8](figure_8.jpeg \"Figure 8\")<h3 style=\"text-align: center;\" markdown=\"1\">Figure 8</h3>"
   ]
  },
  {
   "cell_type": "markdown",
   "metadata": {},
   "source": [
    "* **A model was now generated with two version of NaT, in the same way as the Migliore et al. 2005 model has a 2nd version of NaX with the midpoint shunted by 10 mV. Here we produced a 2nd version with the midpoint 10 mV shunt.**\n",
    "\n",
    "![Figure 9](figure_9.jpeg \"Figure 9\")<h3 style=\"text-align: center;\" markdown=\"1\">Figure 9</h3>\n",
    "![Figure 10](figure_10.jpeg \"Figure 10\")<h3 style=\"text-align: center;\" markdown=\"1\">Figure 10</h3>\n",
    "\n",
    "* **Incorporating the 10 mV shunted NaT in the soma and dendrite of the model using all the same densities as the original model (Figure 11, Sim_7) only has a slight effect. Replacing the NaT channel in the axon as well has a much larger effect (Figure 11, Sim_8). Shunting the NaT in the soma and dendrite by the further 10 mV moves the simulation closer to the Migliore original (Figure 11, Sim_9 compare with Sim_3 Migliore original.**\n",
    "\n",
    "![Figure 11](figure_11.jpeg \"Figure 11\")<h3 style=\"text-align: center;\" markdown=\"1\">Figure 11</h3>\n",
    "\n",
    "##Summary##\n",
    "* ** Sim 1 axon:- NaT soma:- NaT dendrites:- NaT**\n",
    "* ** Sim 7 axon:- NaT soma:- NaTsh10 dendrites:- NaTsh10**\n",
    "* ** Sim 8 axon:- NaTsh10 soma:- NaTsh10 dendrites:- NaTsh10**\n",
    "* ** Sim 9 axon:- NaTsh10 soma:- NaTsh20 dendrites:- NaTsh20**\n",
    "* ** Sim 3 axon:- NaX soma:- NaXsh10 dendrites:- NaXsh10**"
   ]
  },
  {
   "cell_type": "markdown",
   "metadata": {},
   "source": [
    "##Fits of Steady State Variables using Recalculated Data##\n",
    "* **The least squares fit of the steady state activation curve is not very close a fit (Figure 12) so this is followed by a manual fit (Figure 13). Figure 13 also shows the original data fit for comparison.**\n",
    "\n",
    "![Figure 12](figure_12.jpeg \"Figure 12\")<h3 style=\"text-align: center;\" markdown=\"1\">Figure 12</h3>\n",
    "![Figure 13](figure_13.jpeg \"Figure 13\")<h3 style=\"text-align: center;\" markdown=\"1\">Figure 13</h3>\n",
    "\n",
    "* **The least squares fit of the steady state inactivation curve is reasonably close a fit (Figure 14). Figure 15 shows the new data puls fit and original data fit for comparison.**\n",
    "\n",
    "![Figure 14](figure_14.jpeg \"Figure 14\")<h3 style=\"text-align: center;\" markdown=\"1\">Figure 14</h3>\n",
    "![Figure 15](figure_15.jpeg \"Figure 15\")<h3 style=\"text-align: center;\" markdown=\"1\">Figure 15</h3>\n",
    "\n",
    "* **The values from the new data fits where incorporated into the full model to produce Simulation 10 and Sim 1 is included in Figure 16 for comparison.**\n",
    "\n",
    "![Figure 16](figure_16.jpeg \"Figure 16\")<h3 style=\"text-align: center;\" markdown=\"1\">Figure 16</h3>"
   ]
  },
  {
   "cell_type": "markdown",
   "metadata": {},
   "source": [
    "#Simulation 1#\n",
    "\n",
    "**Original channel densities for Figure10H3top (these were the channel densities that worked for the Migliore sodium channels).**\n",
    "\n",
    "**BK_iAMC_ChannelML** (9.0E-9 mS μm-2) [soma_group]\n",
    "\n",
    "**CaV_R_iAMC_ChannelML** (1.0E-11 mS μm-2) [dendrite_group, soma_group]\n",
    "\n",
    "**Gran_CaPool_98** (5.2E-6 mS μm-2) [dendrite_group, soma_group]\n",
    "\n",
    "**KA_iAMC_ChannelML** (2.868E-7 mS μm-2) [axon_group]\n",
    "\n",
    "**KA_iAMC_ChannelML** (2.868E-8 mS μm-2) [dendrite_group, soma_group]\n",
    "\n",
    "**Kdr_mod1_iAMC_ChannelML** (1.8E-6 mS μm-2) [all]\n",
    "\n",
    "**LeakConductance** (1.676E-10 mS μm-2) [all]\n",
    "\n",
    "**NaP_mod1_iAMC_ChannelML** (4.0E-7 mS μm-2) [dendrite_group, soma_group]\n",
    "\n",
    "**NaT_iAMC_ChannelML** (7.0E-7 mS μm-2) [axon_group]\n",
    "\n",
    "**NaT_iAMC_ChannelML** (7.0E-8 mS μm-2) [dendrite_group, soma_group]\n",
    "\n",
    "#Simulation 2#\n",
    "\n",
    "**Increase NaT densities until a action potential is produced**\n",
    "\n",
    "**BK_iAMC_ChannelML** (9.0E-9 mS μm-2) [soma_group]\n",
    "\n",
    "**CaV_R_iAMC_ChannelML** (1.0E-11 mS μm-2) [dendrite_group, soma_group]\n",
    "\n",
    "**Gran_CaPool_98** (5.2E-6 mS μm-2) [dendrite_group, soma_group]\n",
    "\n",
    "**KA_iAMC_ChannelML** (2.868E-7 mS μm-2) [axon_group]\n",
    "\n",
    "**KA_iAMC_ChannelML** (2.868E-8 mS μm-2) [dendrite_group, soma_group]\n",
    "\n",
    "**Kdr_mod1_iAMC_ChannelML** (1.8E-6 mS μm-2) [all]\n",
    "\n",
    "**LeakConductance** (1.676E-10 mS μm-2) [all]\n",
    "\n",
    "**NaP_mod1_iAMC_ChannelML** (4.0E-7 mS μm-2) [dendrite_group, soma_group]\n",
    "\n",
    "**NaT_iAMC_ChannelML** (4.0E-6 mS μm-2) [axon_group]\n",
    "\n",
    "**NaT_iAMC_ChannelML** (4.0E-7 mS μm-2) [dendrite_group, soma_group]\n",
    "\n",
    "![Figure 1](figure_1.jpeg \"Figure 1\")\n",
    "<h3 style=\"text-align: center;\" markdown=\"1\">Figure 1</h3>"
   ]
  },
  {
   "cell_type": "markdown",
   "metadata": {},
   "source": [
    "#Simulation 3#\n",
    "\n",
    "**Original Figure10H3top with Migliore sodium channels).**\n",
    "\n",
    "**BK_iAMC_ChannelML** (9.0E-9 mS μm-2) [soma_group]\n",
    "\n",
    "**CaV_R_iAMC_ChannelML** (1.0E-11 mS μm-2) [dendrite_group, soma_group]\n",
    "\n",
    "**Gran_CaPool_98** (5.2E-6 mS μm-2) [dendrite_group, soma_group]\n",
    "\n",
    "**KA_iAMC_ChannelML** (2.868E-7 mS μm-2) [axon_group]\n",
    "\n",
    "**KA_iAMC_ChannelML** (2.868E-8 mS μm-2) [dendrite_group, soma_group]\n",
    "\n",
    "**Kdr_mod1_iAMC_ChannelML** (1.8E-6 mS μm-2) [all]\n",
    "\n",
    "**LeakConductance** (1.676E-10 mS μm-2) [all]\n",
    "\n",
    "**NaP_mod1_iAMC_ChannelML** (4.0E-7 mS μm-2) [dendrite_group, soma_group]\n",
    "\n",
    "**NaT_iAMC_ChannelML** (7.0E-7 mS μm-2) [axon_group]\n",
    "\n",
    "**NaT_iAMC_ChannelML** (7.0E-8 mS μm-2) [dendrite_group, soma_group]\n",
    "\n",
    "#Simulation 4#\n",
    "\n",
    "**Removing NaP channel still produces an action potential with NaT at the densities found in Simulation 2**\n",
    "\n",
    "**BK_iAMC_ChannelML** (9.0E-9 mS μm-2) [soma_group]\n",
    "\n",
    "**CaV_R_iAMC_ChannelML** (1.0E-11 mS μm-2) [dendrite_group, soma_group]\n",
    "\n",
    "**Gran_CaPool_98** (5.2E-6 mS μm-2) [dendrite_group, soma_group]\n",
    "\n",
    "**KA_iAMC_ChannelML** (2.868E-7 mS μm-2) [axon_group]\n",
    "\n",
    "**KA_iAMC_ChannelML** (2.868E-8 mS μm-2) [dendrite_group, soma_group]\n",
    "\n",
    "**Kdr_mod1_iAMC_ChannelML** (1.8E-6 mS μm-2) [all]\n",
    "\n",
    "**LeakConductance** (1.676E-10 mS μm-2) [all]\n",
    "\n",
    "**NaP_mod1_iAMC_ChannelML** (0 mS μm-2) [dendrite_group, soma_group]\n",
    "\n",
    "**NaxSH0_ChannelML** (4.0E-6 mS μm-2) [axon_group]\n",
    "\n",
    "**NaxSH10_ChannelML** (4.0E-7 mS μm-2) [dendrite_group, soma_group]\n",
    "\n",
    "![](figure_2.jpeg \"Figure 2\")\n",
    "<h3 style=\"text-align: center;\" markdown=\"1\">Figure 2</h3>"
   ]
  },
  {
   "cell_type": "markdown",
   "metadata": {},
   "source": [
    "#Simulation 5#\n",
    "**NaP channel density increased 10 fold over Simulation 1**\n",
    "**BK_iAMC_ChannelML** (9.0E-9 mS μm-2) [soma_group]\n",
    "\n",
    "**CaV_R_iAMC_ChannelML** (1.0E-11 mS μm-2) [dendrite_group, soma_group]\n",
    "\n",
    "**Gran_CaPool_98** (5.2E-6 mS μm-2) [dendrite_group, soma_group]\n",
    "\n",
    "**KA_iAMC_ChannelML** (2.868E-7 mS μm-2) [axon_group]\n",
    "\n",
    "**KA_iAMC_ChannelML** (2.868E-8 mS μm-2) [dendrite_group, soma_group]\n",
    "\n",
    "**Kdr_mod1_iAMC_ChannelML** (1.8E-6 mS μm-2) [all]\n",
    "\n",
    "**LeakConductance** (1.676E-10 mS μm-2) [all]\n",
    "\n",
    "**NaP_mod1_iAMC_ChannelML** (4.0E-6 mS μm-2) [dendrite_group, soma_group]\n",
    "\n",
    "**NaT_iAMC_ChannelML** (7.0E-7 mS μm-2) [axon_group]\n",
    "\n",
    "**NaT_iAMC_ChannelML** (7.0E-8 mS μm-2) [dendrite_group, soma_group]\n",
    "\n",
    "![](figure_3.jpeg \"Figure 3\")\n",
    "<h3 style=\"text-align: center;\" markdown=\"1\">Figure 3</h3>"
   ]
  },
  {
   "cell_type": "code",
   "execution_count": 1,
   "metadata": {
    "collapsed": false
   },
   "outputs": [
    {
     "data": {
      "text/plain": [
       "<matplotlib.legend.Legend at 0x7fde90781350>"
      ]
     },
     "execution_count": 1,
     "metadata": {},
     "output_type": "execute_result"
    }
   ],
   "source": [
    "#load python packages\n",
    "#%pylab inline\n",
    "import pandas as pd\n",
    "import matplotlib.pyplot as plt\n",
    "%matplotlib qt4\n",
    "\n",
    "#load data\n",
    "S1 = pd.read_csv('Sim_1.dat', header=None, delim_whitespace=True)\n",
    "S2 = pd.read_csv('Sim_2.dat', header=None, delim_whitespace=True)\n",
    "t = pd.read_csv('time.dat', header=None, delim_whitespace=True)\n",
    "\n",
    "#plot Vmemb\n",
    "plt.plot(t, S1, t, S2)\n",
    "plt.xlabel('time (ms)')\n",
    "plt.ylabel('Vmemb(mV)')\n",
    "plt.title('iAMC NaT model development')\n",
    "plt.legend(['Sim_1', 'Sim_2'], loc='upper right')"
   ]
  },
  {
   "cell_type": "code",
   "execution_count": 4,
   "metadata": {
    "collapsed": false
   },
   "outputs": [
    {
     "data": {
      "text/plain": [
       "<matplotlib.legend.Legend at 0x7fde87df6e90>"
      ]
     },
     "execution_count": 4,
     "metadata": {},
     "output_type": "execute_result"
    }
   ],
   "source": [
    "#load python packages\n",
    "#%pylab inline\n",
    "import pandas as pd\n",
    "import matplotlib.pyplot as plt\n",
    "%matplotlib qt4\n",
    "\n",
    "#load data\n",
    "S3 = pd.read_csv('Sim_3.dat', header=None, delim_whitespace=True)\n",
    "S4 = pd.read_csv('Sim_4.dat', header=None, delim_whitespace=True)\n",
    "t = pd.read_csv('time_1000.dat', header=None, delim_whitespace=True)\n",
    "\n",
    "#plot Vmemb\n",
    "plt.plot(t, S3, t, S4)\n",
    "plt.xlabel('time (ms)')\n",
    "plt.ylabel('Vmemb(mV)')\n",
    "plt.title('iAMC NaT model development')\n",
    "plt.legend(['Sim_3', 'Sim_4'], loc='upper right')"
   ]
  },
  {
   "cell_type": "code",
   "execution_count": 3,
   "metadata": {
    "collapsed": false
   },
   "outputs": [
    {
     "data": {
      "text/plain": [
       "<matplotlib.legend.Legend at 0x7fe0207ec350>"
      ]
     },
     "execution_count": 3,
     "metadata": {},
     "output_type": "execute_result"
    }
   ],
   "source": [
    "#load python packages\n",
    "#%pylab inline\n",
    "import pandas as pd\n",
    "import matplotlib.pyplot as plt\n",
    "%matplotlib qt4\n",
    "\n",
    "#load data\n",
    "S1 = pd.read_csv('Sim_1b.dat', header=None, delim_whitespace=True)\n",
    "S3 = pd.read_csv('Sim_3.dat', header=None, delim_whitespace=True)\n",
    "S5 = pd.read_csv('Sim_5.dat', header=None, delim_whitespace=True)\n",
    "t = pd.read_csv('time_1000.dat', header=None, delim_whitespace=True)\n",
    "\n",
    "#plot Vmemb\n",
    "plt.plot(t, S1, t, S5, t, S3)\n",
    "plt.xlabel('time (ms)')\n",
    "plt.ylabel('Vmemb(mV)')\n",
    "plt.title('iAMC NaT model development')\n",
    "plt.legend(['Sim_1', 'Sim_5', 'Sim_3'], loc='upper right')"
   ]
  },
  {
   "cell_type": "code",
   "execution_count": 14,
   "metadata": {
    "collapsed": false
   },
   "outputs": [
    {
     "data": {
      "text/plain": [
       "<matplotlib.legend.Legend at 0x7fe01c095450>"
      ]
     },
     "execution_count": 14,
     "metadata": {},
     "output_type": "execute_result"
    }
   ],
   "source": [
    "#load python packages\n",
    "#%pylab inline\n",
    "import pandas as pd\n",
    "import matplotlib.pyplot as plt\n",
    "%matplotlib qt4\n",
    "\n",
    "#load data\n",
    "Am = -46.94\n",
    "Bm = -2.54\n",
    "Ah = -41.63\n",
    "Bh = 7.19\n",
    "Nax0hinf = pd.read_csv('NaxSH0_ChannelML.h.inf.lems.35.dat', header=None, delim_whitespace=True)\n",
    "Nax0minf = pd.read_csv('NaxSH0_ChannelML.m.inf.lems.35.dat', header=None, delim_whitespace=True)\n",
    "Nax10hinf = pd.read_csv('NaxSH10_ChannelML.h.inf.lems.35.dat', header=None, delim_whitespace=True)\n",
    "Nax10minf = pd.read_csv('NaxSH10_ChannelML.m.inf.lems.35.dat', header=None, delim_whitespace=True)\n",
    "v = np.linspace(-100, 100, num=40001)\n",
    "NaT_m = 1/(1+(np.exp((v-Am)/Bm)))\n",
    "NaT_h = 1/(1+(np.exp((v-Ah)/Bh)))\n",
    "\n",
    "#len(Nax0minf.index) \n",
    "\n",
    "#plot Vmemb\n",
    "plt.plot(v, Nax0minf[1], v, Nax10minf[1], v, NaT_m, v, Nax0hinf[1], v, Nax10hinf[1], v, NaT_h)\n",
    "plt.xlabel('Vmemb(mV)')\n",
    "plt.ylabel('SteadyState')\n",
    "plt.title('iAMC NaT model development')\n",
    "plt.legend(['Nax0minf','Nax10minf', 'NaT_m','Nax0hinf', 'Nax10hinf', 'NaT_h'], loc='upper right')"
   ]
  },
  {
   "cell_type": "code",
   "execution_count": 20,
   "metadata": {
    "collapsed": false
   },
   "outputs": [
    {
     "data": {
      "text/plain": [
       "<matplotlib.legend.Legend at 0x7fe0145a22d0>"
      ]
     },
     "execution_count": 20,
     "metadata": {},
     "output_type": "execute_result"
    }
   ],
   "source": [
    "#load python packages\n",
    "#%pylab inline\n",
    "import pandas as pd\n",
    "import matplotlib.pyplot as plt\n",
    "%matplotlib qt4\n",
    "\n",
    "#load data\n",
    "xl = pd.ExcelFile(\"iAMC_kinetics.xlsx\")\n",
    "tvm = xl.parse(\"NaT_tau_act\")\n",
    "tvm1 = xl.parse(\"NaT_tau_inact\")\n",
    "vv = tvm.columns\n",
    "y = tvm.T['mean']\n",
    "vv1 = tvm1.columns\n",
    "y1 = tvm1.T['mean']\n",
    "Nax0htau = pd.read_csv('NaxSH0_ChannelML.h.tau.lems.35.dat', header=None, delim_whitespace=True)\n",
    "Nax0mtau = pd.read_csv('NaxSH0_ChannelML.m.tau.lems.35.dat', header=None, delim_whitespace=True)\n",
    "Nax10htau = pd.read_csv('NaxSH10_ChannelML.h.tau.lems.35.dat', header=None, delim_whitespace=True)\n",
    "Nax10mtau = pd.read_csv('NaxSH10_ChannelML.m.tau.lems.35.dat', header=None, delim_whitespace=True)\n",
    "Nax0htau[1] = Nax0htau[1]*1000\n",
    "Nax0mtau[1] = Nax0mtau[1]*1000\n",
    "Nax10htau[1] = Nax10htau[1]*1000\n",
    "Nax10mtau[1] = Nax10mtau[1]*1000\n",
    "v = np.linspace(-100, 100, num=40001)\n",
    "NaT_mtau = 0.81*exp(-(v+60.45)/38.26) + 0.35\n",
    "NaT_htau = 1/((exp((v-34.14)/142.45))+(exp((-v-67.39)/10.72)))\n",
    "\n",
    "#len(Nax0minf.index) \n",
    "\n",
    "#plot Vmemb\n",
    "plt.plot(v, Nax0mtau[1], v, Nax10mtau[1], v, NaT_mtau, vv, y,'o', v, Nax0htau[1], v, Nax10htau[1], v, NaT_htau, vv1, y1,'o')\n",
    "plt.xlabel('Vmemb(mV)')\n",
    "plt.ylabel('Time constant (ms)')\n",
    "plt.title('iAMC NaT model development')\n",
    "plt.legend(['Nax0mtau','Nax10mtau', 'NaT_mtau', 'NaT_tau_act','Nax0htau', 'Nax10htau', 'NaT_htau', 'NaT_Tau_inact'], loc='upper right')"
   ]
  },
  {
   "cell_type": "code",
   "execution_count": 21,
   "metadata": {
    "collapsed": false
   },
   "outputs": [
    {
     "name": "stdout",
     "output_type": "stream",
     "text": [
      "1.15052888599\n"
     ]
    }
   ],
   "source": [
    "v = -60\n",
    "NaT_mtau = 0.81*exp(-(v+60.45)/38.26) + 0.35\n",
    "print NaT_mtau "
   ]
  },
  {
   "cell_type": "code",
   "execution_count": 22,
   "metadata": {
    "collapsed": false
   },
   "outputs": [
    {
     "data": {
      "text/plain": [
       "<matplotlib.legend.Legend at 0x7fe0144fbfd0>"
      ]
     },
     "execution_count": 22,
     "metadata": {},
     "output_type": "execute_result"
    }
   ],
   "source": [
    "#load python packages\n",
    "#%pylab inline\n",
    "import pandas as pd\n",
    "import matplotlib.pyplot as plt\n",
    "%matplotlib qt4\n",
    "\n",
    "#load data\n",
    "S1 = pd.read_csv('Sim_1b.dat', header=None, delim_whitespace=True)\n",
    "S6 = pd.read_csv('Sim_6.dat', header=None, delim_whitespace=True)\n",
    "t = pd.read_csv('time_1000.dat', header=None, delim_whitespace=True)\n",
    "\n",
    "#plot Vmemb\n",
    "plt.plot(t, S1, t, S6)\n",
    "plt.xlabel('time (ms)')\n",
    "plt.ylabel('Vmemb(mV)')\n",
    "plt.title('iAMC NaT model development')\n",
    "plt.legend(['Sim_1', 'Sim_6'], loc='upper right')"
   ]
  },
  {
   "cell_type": "code",
   "execution_count": 5,
   "metadata": {
    "collapsed": false
   },
   "outputs": [
    {
     "data": {
      "text/plain": [
       "<matplotlib.legend.Legend at 0x7f7f59a2e610>"
      ]
     },
     "execution_count": 5,
     "metadata": {},
     "output_type": "execute_result"
    }
   ],
   "source": [
    "#load python packages\n",
    "import numpy as np\n",
    "import matplotlib.pyplot as plt\n",
    "%matplotlib qt4\n",
    "\n",
    "#load data\n",
    "NaT_mtau = 0.81*np.exp(-(v+60.45)/38.26) + 0.35\n",
    "NaT_htau = 1/((np.exp((v-34.14)/142.45))+(np.exp((-v-67.39)/10.72)))\n",
    "NaT_mtaush10 = 0.81*np.exp(-(v+70.45)/38.26) + 0.35\n",
    "NaT_htaush10 = 1/((np.exp((v-24.14)/142.45))+(np.exp((-v-57.39)/10.72)))\n",
    "\n",
    "\n",
    "#plot Vmemb\n",
    "plt.plot(v, NaT_mtau, v, NaT_mtaush10, v, NaT_htau, v, NaT_htaush10)\n",
    "plt.xlabel('Vmemb(mV)')\n",
    "plt.ylabel('Time constant (ms)')\n",
    "plt.title('iAMC NaT model development')\n",
    "plt.legend(['NaT_mtau', 'NaT_mtau_sh10', 'NaT_htau', 'NaT_htau_sh10'], loc='upper right')"
   ]
  },
  {
   "cell_type": "code",
   "execution_count": 2,
   "metadata": {
    "collapsed": false
   },
   "outputs": [
    {
     "data": {
      "text/plain": [
       "<matplotlib.legend.Legend at 0x7f7f5eeab290>"
      ]
     },
     "execution_count": 2,
     "metadata": {},
     "output_type": "execute_result"
    }
   ],
   "source": [
    "#load python packages\n",
    "import numpy as np\n",
    "import matplotlib.pyplot as plt\n",
    "%matplotlib qt4\n",
    "\n",
    "#load data\n",
    "Am = -46.94\n",
    "Bm = -2.54\n",
    "Ah = -41.63\n",
    "Bh = 7.19\n",
    "Amsh10 = -36.94\n",
    "Ahsh10 = -31.63\n",
    "v = np.linspace(-100, 100, num=40001)\n",
    "NaT_minf = 1/(1+(np.exp((v-Am)/Bm)))\n",
    "NaT_hinf = 1/(1+(np.exp((v-Ah)/Bh)))\n",
    "NaT_minfsh10 = 1/(1+(np.exp((v-Amsh10)/Bm)))\n",
    "NaT_hinfsh10 = 1/(1+(np.exp((v-Ahsh10)/Bh)))\n",
    "\n",
    "#plot Vmemb\n",
    "plt.plot(v, NaT_minf, v, NaT_minfsh10, v, NaT_hinf, v, NaT_hinfsh10)\n",
    "plt.xlabel('Vmemb(mV)')\n",
    "plt.ylabel('SteadyState')\n",
    "plt.title('iAMC NaT model development')\n",
    "plt.legend(['NaT_m','NaT_msh10', 'NaT_h', 'NaT_hsh10'], loc='upper right')"
   ]
  },
  {
   "cell_type": "code",
   "execution_count": 7,
   "metadata": {
    "collapsed": false
   },
   "outputs": [
    {
     "name": "stdout",
     "output_type": "stream",
     "text": [
      "0.966404275792\n"
     ]
    }
   ],
   "source": [
    "v = -60\n",
    "NaT_mtau = 0.81*np.exp(-(v+70.45)/38.26) + 0.35\n",
    "print NaT_mtau"
   ]
  },
  {
   "cell_type": "code",
   "execution_count": 2,
   "metadata": {
    "collapsed": false
   },
   "outputs": [
    {
     "name": "stdout",
     "output_type": "stream",
     "text": [
      "0.824629008228\n"
     ]
    }
   ],
   "source": [
    "import numpy as np\n",
    "v = -60\n",
    "NaT_mtau = 0.81*np.exp(-(v+80.45)/38.26) + 0.35\n",
    "print NaT_mtau"
   ]
  },
  {
   "cell_type": "code",
   "execution_count": 4,
   "metadata": {
    "collapsed": false
   },
   "outputs": [
    {
     "data": {
      "text/plain": [
       "<matplotlib.legend.Legend at 0x7f6e8f675110>"
      ]
     },
     "execution_count": 4,
     "metadata": {},
     "output_type": "execute_result"
    }
   ],
   "source": [
    "#load python packages\n",
    "#%pylab inline\n",
    "import pandas as pd\n",
    "import matplotlib.pyplot as plt\n",
    "%matplotlib qt4\n",
    "\n",
    "#load data\n",
    "S1 = pd.read_csv('Sim_1b.dat', header=None, delim_whitespace=True)\n",
    "S3 = pd.read_csv('Sim_3.dat', header=None, delim_whitespace=True)\n",
    "S7 = pd.read_csv('Sim_7.dat', header=None, delim_whitespace=True)\n",
    "S8 = pd.read_csv('Sim_8.dat', header=None, delim_whitespace=True)\n",
    "S9 = pd.read_csv('Sim_9.dat', header=None, delim_whitespace=True)\n",
    "t = pd.read_csv('time_1000.dat', header=None, delim_whitespace=True)\n",
    "\n",
    "#plot Vmemb\n",
    "plt.plot(t, S1, t, S7, t, S8, t, S9, t, S3)\n",
    "plt.xlabel('time (ms)')\n",
    "plt.ylabel('Vmemb(mV)')\n",
    "plt.title('iAMC NaT model development')\n",
    "plt.legend(['Sim_1', 'Sim_7', 'Sim_8','Sim_9','Sim_3'], loc='upper right')"
   ]
  },
  {
   "cell_type": "code",
   "execution_count": 2,
   "metadata": {
    "collapsed": false
   },
   "outputs": [],
   "source": [
    "#Least Squares fit for iAMC_NaT channel Inf activation\n",
    "#load python packages\n",
    "#%pylab inline\n",
    "import pandas as pd\n",
    "from scipy.optimize import leastsq\n",
    "import numpy as np\n",
    "import matplotlib.pyplot as plt\n",
    "%matplotlib qt4\n",
    "\n",
    "#load data from Excel Spread Sheet\n",
    "xl = pd.ExcelFile(\"iAMC_kinetics.xlsx\")\n",
    "tvm = xl.parse(\"NaT_inf_act\")\n",
    "\n",
    "# set parameters for curve-fit\n",
    "v = tvm.columns\n",
    "y = tvm.T['G_Gmax_mean']\n",
    "#ysd = tvm.T['SD']\n",
    "\n",
    "def func(v, A, B):\n",
    "    \"\"\"Exponential equation.\"\"\"\n",
    "    return 1/(1+(np.exp((v-A)/B)))\n",
    "\n",
    "def residuals(p, y, v):\n",
    "    \"\"\"Deviations of data from fitted DE curve\"\"\"\n",
    "    A,B = p\n",
    "    err = y-func(v, A, B)\n",
    "    return err\n",
    "\n",
    "def peval(v, p):\n",
    "    \"\"\"Evaluated value at v with current parameters.\"\"\"\n",
    "    A,B = p\n",
    "    return func(v, A, B)\n",
    "\n",
    "# Initial guess for parameters\n",
    "# p0 = [60, 5, 8]\n",
    "p0 = [-46, -17]\n",
    "\n",
    "# Fit equation using least squares optimization\n",
    "plsq = leastsq(residuals, p0, args=(y, v))\n",
    "\n",
    "# Plot results\n",
    "vv = np.linspace(-100, 100, num=501)\n",
    "\n",
    "plt.plot(vv,peval(vv,plsq[0]),v,y,'o')\n",
    "axes = plt.gca()\n",
    "axes.set_ylim([-0.1,1.1])\n",
    "plt.title('Least-squares Sigmoid fit to NaT_Inf_act')\n",
    "plt.xlabel('Vmemb (mV)')\n",
    "plt.ylabel('activation Steady State')\n",
    "plt.legend(['Fit', 'NaT_Inf_act'], loc='center right')\n",
    "for i, (param, est) in enumerate(zip('AB', plsq[0])):\n",
    "    plt.text(-40, 0.3-i*0.12, 'est(%s) = %.2f' % (param, est))\n",
    "#plt.savefig('iAMC_Na_Inf_act.png')"
   ]
  },
  {
   "cell_type": "code",
   "execution_count": 4,
   "metadata": {
    "collapsed": false
   },
   "outputs": [
    {
     "data": {
      "text/plain": [
       "<matplotlib.legend.Legend at 0x7fc00f4bbf10>"
      ]
     },
     "execution_count": 4,
     "metadata": {},
     "output_type": "execute_result"
    }
   ],
   "source": [
    "#Least Squares fit for iAMC_NaT channel Inf activation\n",
    "#load python packages\n",
    "#%pylab inline\n",
    "import pandas as pd\n",
    "from scipy.optimize import leastsq\n",
    "import numpy as np\n",
    "import matplotlib.pyplot as plt\n",
    "%matplotlib qt4\n",
    "\n",
    "#load data from Excel Spread Sheet\n",
    "xl = pd.ExcelFile(\"iAMC_kinetics.xlsx\")\n",
    "tvm = xl.parse(\"NaT_inf_act\")\n",
    "\n",
    "# set parameters for curve-fit\n",
    "v = tvm.columns\n",
    "y = tvm.T['G_Gmax_mean']\n",
    "\n",
    "Am = -46.94\n",
    "Bm = -2.54\n",
    "A = -42\n",
    "B = -3.8\n",
    "vv = np.linspace(-100, 100, num=501)\n",
    "NaT_minf_n = 1/(1+(np.exp((vv-A)/B)))\n",
    "NaT_minf = 1/(1+(np.exp((vv-Am)/Bm)))\n",
    "#plot Vmemb\n",
    "plt.plot(vv, NaT_minf, vv, NaT_minf_n,v,y,'o')\n",
    "plt.xlabel('Vmemb (mV)')\n",
    "plt.ylabel('activation Steady State')\n",
    "plt.title('NaT Activation')\n",
    "plt.legend(['old fit', 'new fit', 'new data'], loc='upper right')"
   ]
  },
  {
   "cell_type": "code",
   "execution_count": 5,
   "metadata": {
    "collapsed": false
   },
   "outputs": [],
   "source": [
    "#Least Squares fit for iAMC_NaT channel Inf activation\n",
    "#load python packages\n",
    "#%pylab inline\n",
    "import pandas as pd\n",
    "from scipy.optimize import leastsq\n",
    "import numpy as np\n",
    "import matplotlib.pyplot as plt\n",
    "%matplotlib qt4\n",
    "\n",
    "#load data from Excel Spread Sheet\n",
    "xl = pd.ExcelFile(\"iAMC_kinetics.xlsx\")\n",
    "tvm = xl.parse(\"NaT_inf_inact\")\n",
    "\n",
    "# set parameters for curve-fit\n",
    "v = tvm.columns\n",
    "y = tvm.T['G_Gmax_mean']\n",
    "#ysd = tvm.T['SD']\n",
    "\n",
    "def func(v, A, B):\n",
    "    \"\"\"Exponential equation.\"\"\"\n",
    "    return 1/(1+(np.exp((v-A)/B)))\n",
    "\n",
    "def residuals(p, y, v):\n",
    "    \"\"\"Deviations of data from fitted DE curve\"\"\"\n",
    "    A,B = p\n",
    "    err = y-func(v, A, B)\n",
    "    return err\n",
    "\n",
    "def peval(v, p):\n",
    "    \"\"\"Evaluated value at v with current parameters.\"\"\"\n",
    "    A,B = p\n",
    "    return func(v, A, B)\n",
    "\n",
    "# Initial guess for parameters\n",
    "# p0 = [60, 5, 8]\n",
    "p0 = [-41, 7]\n",
    "\n",
    "# Fit equation using least squares optimization\n",
    "plsq = leastsq(residuals, p0, args=(y, v))\n",
    "\n",
    "# Plot results\n",
    "vv = np.linspace(-100, 60, num=501)\n",
    "plt.plot(vv,peval(vv,plsq[0]),v,y,'o')\n",
    "axes = plt.gca()\n",
    "axes.set_ylim([-0.1,1.1])\n",
    "plt.title('Least-squares Sigmoid fit to NaT_Inf_inact')\n",
    "plt.xlabel('Vmemb (mV)')\n",
    "plt.ylabel('inactivation Steady State')\n",
    "plt.legend(['Fit', 'NaT_Inf_inact'], loc='upper right')\n",
    "for i, (param, est) in enumerate(zip('AB', plsq[0])):\n",
    "    plt.text(-20, 0.5-i*0.12, 'est(%s) = %.2f' % (param, est))"
   ]
  },
  {
   "cell_type": "code",
   "execution_count": 6,
   "metadata": {
    "collapsed": false
   },
   "outputs": [
    {
     "data": {
      "text/plain": [
       "<matplotlib.legend.Legend at 0x7fc00f1abc10>"
      ]
     },
     "execution_count": 6,
     "metadata": {},
     "output_type": "execute_result"
    }
   ],
   "source": [
    "#Least Squares fit for iAMC_NaT channel Inf activation\n",
    "#load python packages\n",
    "import matplotlib.pyplot as plt\n",
    "%matplotlib qt4\n",
    "\n",
    "#load data from Excel Spread Sheet\n",
    "xl = pd.ExcelFile(\"iAMC_kinetics.xlsx\")\n",
    "tvm = xl.parse(\"NaT_inf_inact\")\n",
    "\n",
    "# set parameters for curve-fit\n",
    "v = tvm.columns\n",
    "y = tvm.T['G_Gmax_mean']\n",
    "\n",
    "Ah = -41.63\n",
    "Bh = 7.19\n",
    "A = -39.70\n",
    "B = 7.42\n",
    "vv = np.linspace(-100, 100, num=501)\n",
    "NaT_hinf_n = 1/(1+(np.exp((vv-A)/B)))\n",
    "NaT_hinf = 1/(1+(np.exp((vv-Ah)/Bh)))\n",
    "#plot Vmemb\n",
    "plt.plot(vv, NaT_hinf, vv, NaT_hinf_n, v,y,'o')\n",
    "plt.xlabel('Vmemb (mV)')\n",
    "plt.ylabel('inactivation Steady State')\n",
    "plt.title('NaT inActivation')\n",
    "plt.legend(['old fit', 'new fit', 'new data'], loc='upper right')"
   ]
  },
  {
   "cell_type": "code",
   "execution_count": 7,
   "metadata": {
    "collapsed": false
   },
   "outputs": [
    {
     "data": {
      "text/plain": [
       "<matplotlib.legend.Legend at 0x7fc00f28a410>"
      ]
     },
     "execution_count": 7,
     "metadata": {},
     "output_type": "execute_result"
    }
   ],
   "source": [
    "#load python packages\n",
    "#%pylab inline\n",
    "import pandas as pd\n",
    "import matplotlib.pyplot as plt\n",
    "%matplotlib qt4\n",
    "\n",
    "#load data\n",
    "S1 = pd.read_csv('Sim_1b.dat', header=None, delim_whitespace=True)\n",
    "S10 = pd.read_csv('Sim_10.dat', header=None, delim_whitespace=True)\n",
    "t = pd.read_csv('time_1000.dat', header=None, delim_whitespace=True)\n",
    "\n",
    "#plot Vmemb\n",
    "plt.plot(t, S1, t, S10)\n",
    "plt.xlabel('time (ms)')\n",
    "plt.ylabel('Vmemb(mV)')\n",
    "plt.title('iAMC NaT model development')\n",
    "plt.legend(['Sim_1', 'Sim_10'], loc='upper right')"
   ]
  },
  {
   "cell_type": "code",
   "execution_count": null,
   "metadata": {
    "collapsed": true
   },
   "outputs": [],
   "source": []
  }
 ],
 "metadata": {
  "kernelspec": {
   "display_name": "Python 2",
   "language": "python",
   "name": "python2"
  },
  "language_info": {
   "codemirror_mode": {
    "name": "ipython",
    "version": 2
   },
   "file_extension": ".py",
   "mimetype": "text/x-python",
   "name": "python",
   "nbconvert_exporter": "python",
   "pygments_lexer": "ipython2",
   "version": "2.7.10"
  }
 },
 "nbformat": 4,
 "nbformat_minor": 0
}
